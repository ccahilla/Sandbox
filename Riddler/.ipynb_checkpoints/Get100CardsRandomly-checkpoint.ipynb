{
 "cells": [
  {
   "cell_type": "code",
   "execution_count": 1,
   "metadata": {},
   "outputs": [],
   "source": [
    "import numpy as np\n",
    "import matplotlib as mpl\n",
    "import matplotlib.pyplot as plt\n",
    "import os\n",
    "import sys\n",
    "import time\n",
    "from scipy import stats\n",
    "%matplotlib inline"
   ]
  },
  {
   "cell_type": "code",
   "execution_count": 2,
   "metadata": {},
   "outputs": [],
   "source": [
    "mpl.rcParams.update({'text.usetex': True,\n",
    "                     'text.color':'k',\n",
    "                     'lines.linewidth': 2,\n",
    "                     'lines.markersize': 12,\n",
    "                     'font.size': 34, \n",
    "                     'font.family': 'FreeSerif',\n",
    "                     'axes.grid': True,\n",
    "                     'axes.facecolor' :'w',\n",
    "                     'axes.labelcolor':'k',\n",
    "                     'axes.titlesize': 24,\n",
    "                     'axes.labelsize': 24,\n",
    "                     'axes.prop_cycle':plt.cycler(color=plt.cm.Dark2.colors),\n",
    "                     'xtick.color':'k',\n",
    "                     'xtick.labelsize': 24,\n",
    "                     'ytick.color':'k',\n",
    "                     'ytick.labelsize': 24,\n",
    "                     'grid.color': '#555555',\n",
    "                     'legend.facecolor':'w',\n",
    "                     'legend.fontsize': 24,\n",
    "                     'legend.borderpad': 0.6,\n",
    "                     'figure.figsize': (16, 12),\n",
    "                     'figure.facecolor' : 'w'})"
   ]
  },
  {
   "cell_type": "code",
   "execution_count": 3,
   "metadata": {},
   "outputs": [],
   "source": [
    "def randInts(num, low=0, high=100):\n",
    "    '''Returns num random integers between 0 and 99 inclusive with no duplicates'''\n",
    "    arr = np.array([])\n",
    "    uarr = np.array([])\n",
    "    while len(uarr) < num:\n",
    "        short = num - len(uarr)\n",
    "        newInts = np.random.randint(low, high, size=short)\n",
    "        arr = np.append(arr, newInts)\n",
    "        uarr = np.unique(arr)\n",
    "    return uarr"
   ]
  },
  {
   "cell_type": "code",
   "execution_count": 4,
   "metadata": {},
   "outputs": [],
   "source": [
    "def runSimulation():\n",
    "    totalNumberOfCards = 100\n",
    "    sonsDeck = np.array([])\n",
    "    week = 0\n",
    "    decksBought = 0\n",
    "    while len(sonsDeck) < totalNumberOfCards:\n",
    "        week += 1\n",
    "        cash = 10\n",
    "        while cash > 0:\n",
    "            decksBought += 1\n",
    "            cash -= 1\n",
    "            currentCards = randInts(10)\n",
    "            sonsDeck = np.unique( np.append(sonsDeck, currentCards) ) # add new cards to deck, only count new uniques\n",
    "            if len(sonsDeck) == totalNumberOfCards:\n",
    "                break\n",
    "        #print 'Number of Unique Cards = {0} after {1} decks bought (Week {2})'.format( len(sonsDeck), decksBought, week )\n",
    "    return week, decksBought"
   ]
  },
  {
   "cell_type": "code",
   "execution_count": null,
   "metadata": {},
   "outputs": [],
   "source": [
    "startTime = time.time()\n",
    "simulationNumber = 100000\n",
    "weeksArr = np.array([])\n",
    "decksArr = np.array([])\n",
    "for ii in np.arange(simulationNumber):\n",
    "    curWeek, curDeck = runSimulation()\n",
    "    weeksArr = np.append(weeksArr, curWeek)\n",
    "    decksArr = np.append(decksArr, curDeck)\n",
    "print 'Finished {0} simulations in {1} seconds'.format(simulationNumber, time.time() - startTime)"
   ]
  },
  {
   "cell_type": "code",
   "execution_count": null,
   "metadata": {},
   "outputs": [],
   "source": [
    "weeksMean = np.mean(weeksArr)\n",
    "weeksMedian = np.median(weeksArr)\n",
    "weeksVariance = np.var(weeksArr)\n",
    "\n",
    "decksMean = np.mean(decksArr)\n",
    "decksMedian = np.median(decksArr)\n",
    "decksVariance = np.var(decksArr)\n",
    "\n",
    "print 'Mean Weeks = {0}'.format(weeksMean)\n",
    "print 'Median Weeks = {0}'.format(weeksMedian)\n",
    "print 'Mean Decks = {0}'.format(decksMean)\n",
    "print 'Median Decks = {0}'.format(decksMedian)"
   ]
  },
  {
   "cell_type": "code",
   "execution_count": null,
   "metadata": {},
   "outputs": [],
   "source": [
    "bins1 = np.arange(min(weeksArr), max(weeksArr))\n",
    "bins2 = np.arange(min(decksArr), max(decksArr))\n",
    "\n",
    "fig = plt.figure(figsize=(16,12))\n",
    "s1 = fig.add_subplot(211)\n",
    "s2 = fig.add_subplot(212)\n",
    "\n",
    "h1 = s1.hist(weeksArr, bins=bins1, normed=True, align='left')\n",
    "s1.vlines(x=weeksMean, ymin=0, ymax=0.4, color='red', linestyles='--', label='Mean = {0:.3f}'.format(weeksMean))\n",
    "s1.vlines(x=weeksMedian, ymin=0, ymax=0.4, color='orange', linestyles='--', label='Median = {0}'.format(weeksMedian))\n",
    "weeksFit = stats.alpha.fit(weeksArr)\n",
    "alphaPDF = stats.alpha.pdf(bins1, weeksFit[0], weeksFit[1], weeksFit[2]) # now get theoretical values in our interval  \n",
    "s1.plot(bins1, alphaPDF, label=\"Alpha Fit\") # plot it\n",
    "\n",
    "h2 = s2.hist(decksArr, bins=bins2, normed=True, align='left')\n",
    "s2.vlines(x=decksMean, ymin=0, ymax=0.04, color='red', linestyles='--', label='Mean = {0:.3f}'.format(decksMean))\n",
    "s2.vlines(x=decksMedian, ymin=0, ymax=0.04, color='orange', linestyles='--', label='Median = {0}'.format(decksMedian))\n",
    "decksFit = stats.alpha.fit(decksArr)\n",
    "alphaPDF2 = stats.alpha.pdf(bins2, decksFit[0], decksFit[1], decksFit[2]) # now get theoretical values in our interval  \n",
    "s2.plot(bins2, alphaPDF2, label=\"Alpha Fit\") # plot it\n",
    "\n",
    "s1.set_xlim([min(weeksArr), max(weeksArr)])\n",
    "s2.set_xlim([min(decksArr), max(decksArr)])\n",
    "\n",
    "s1.set_xticks(np.arange(min(weeksArr), max(weeksArr)))\n",
    "s2.set_xticks(10*np.arange(3,19))\n",
    "\n",
    "s1.set_xlabel('Weeks')\n",
    "s1.set_title('Probability of attaining 100 cards after {0} simulations'.format(simulationNumber))\n",
    "s2.set_xlabel('Decks Bought')\n",
    "\n",
    "s1.legend()\n",
    "s2.legend()\n",
    "\n",
    "plt.savefig('./plots/{0}_Riddler.pdf'.format(time.strftime('%Y%m%d')))\n",
    "plt.show()"
   ]
  },
  {
   "cell_type": "code",
   "execution_count": null,
   "metadata": {},
   "outputs": [],
   "source": []
  },
  {
   "cell_type": "code",
   "execution_count": null,
   "metadata": {},
   "outputs": [],
   "source": []
  },
  {
   "cell_type": "code",
   "execution_count": null,
   "metadata": {},
   "outputs": [],
   "source": []
  }
 ],
 "metadata": {
  "kernelspec": {
   "display_name": "Python 2",
   "language": "python",
   "name": "python2"
  },
  "language_info": {
   "codemirror_mode": {
    "name": "ipython",
    "version": 2
   },
   "file_extension": ".py",
   "mimetype": "text/x-python",
   "name": "python",
   "nbconvert_exporter": "python",
   "pygments_lexer": "ipython2",
   "version": "2.7.15"
  }
 },
 "nbformat": 4,
 "nbformat_minor": 2
}
